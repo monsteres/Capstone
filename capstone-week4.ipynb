{
 "cells": [
  {
   "cell_type": "markdown",
   "metadata": {},
   "source": [
    "# Capstone Project Week 4 "
   ]
  },
  {
   "cell_type": "markdown",
   "metadata": {},
   "source": [
    "## A Study of Neighbour of the inner city of Melbourne"
   ]
  },
  {
   "cell_type": "markdown",
   "metadata": {},
   "source": [
    "### 1. Introducton"
   ]
  },
  {
   "cell_type": "markdown",
   "metadata": {},
   "source": [
    "Melbourne is the capital of the Australian state of Victoria. It is among one of the most livable cities in the world from CNBC report. Melbourne has a temperate oceanic climate with warm to hot summers and mild winters, and has a diverse and multicultural population. Immigration is a major factor of growth in population in the city, both from within the country and abroad.\n",
    "\n",
    "Melbourne also has a highly diversified economy with particular strengths in finance, manufacturing, research, IT, education, logistics, transportation and tourism. A few largest cooperations in Australia have headquarters in the city and \n",
    "\n",
    "In this project we will explore the inner city of Melbourne for newcomers. We will look into different suburbs in the inner city and find out their characteristics. So newcomers can make better decsions on where to begin their stay in the city."
   ]
  },
  {
   "cell_type": "markdown",
   "metadata": {},
   "source": [
    "### 2. Data Acquisition"
   ]
  },
  {
   "cell_type": "markdown",
   "metadata": {},
   "source": [
    "The analysis will use data sources as below :\n",
    "\n",
    "- Moving annual rents by suburb - September quarter 2020 report from the website of Department of Health and Human Services of Victoria State Government. We will use the suburb cagtegories of Inner Melbourne listed in the excel file.\n",
    "- Using folium to extract latitudes and longitudes, and validates the location with coordinates from Google Map.\n",
    "- Using the Foursquare location data to explore the neighbourhood of different suburbs, providing more details to decide where to live in the city.\n",
    "\n"
   ]
  },
  {
   "cell_type": "code",
   "execution_count": null,
   "metadata": {},
   "outputs": [],
   "source": []
  }
 ],
 "metadata": {
  "kernelspec": {
   "display_name": "Python 3",
   "language": "python",
   "name": "python3"
  },
  "language_info": {
   "codemirror_mode": {
    "name": "ipython",
    "version": 3
   },
   "file_extension": ".py",
   "mimetype": "text/x-python",
   "name": "python",
   "nbconvert_exporter": "python",
   "pygments_lexer": "ipython3",
   "version": "3.7.9"
  }
 },
 "nbformat": 4,
 "nbformat_minor": 4
}
