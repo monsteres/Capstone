{
 "cells": [
  {
   "cell_type": "markdown",
   "metadata": {},
   "source": [
    "# Capstone Project Week 4 "
   ]
  },
  {
   "cell_type": "markdown",
   "metadata": {},
   "source": [
    "## A Study of Neighbour of MTR Stations in Hong Kong"
   ]
  },
  {
   "cell_type": "markdown",
   "metadata": {},
   "source": [
    "### 1. Introducton"
   ]
  },
  {
   "cell_type": "markdown",
   "metadata": {},
   "source": [
    "Hong Kong is one of the major financial cities in the world, a former British colony and now a Special Administrative Region of the People's Republic of China. It has over 7.5 millions residents and is one of the most densely populated places in the world. \n",
    "\n",
    "From report of the Hong Kong government over 90 percent of daily trips are made on public transport. The major public tranpsort network is the Mass Transit Railway (MTR), and it has an average weekday patronage of about 5.6 million passengers. Over the years it has developed into a 11 lines of heavy rail plus 10 lines of light rail commuter network. Most parts of the city are covered by heavy rail while only a small area in the north-west is covered by additional light rail.\n",
    "\n",
    "As a resident of the city I would like to explore the neighbours around MTR stations in the city, and see how different or alike they are. From which we will try to analyze what local business is popular among the neighbourhoods, and evaluate the business prospects for opening a local business."
   ]
  },
  {
   "cell_type": "markdown",
   "metadata": {},
   "source": [
    "### 2. Data Acquisition"
   ]
  },
  {
   "cell_type": "markdown",
   "metadata": {},
   "source": [
    "The analysis will use data sources from the Hong Kong government website. From DATA.GOV.HK we can obtain different published data, therefore : \n",
    "\n",
    "- we downloaded the MTR routes, fares and barrier-free facilities data set listed on Hong Kong government website. From the csv file we can get the list of all stations in different lines.\n",
    "- we use geopy to extract latitudes and longitudes for each staion, and validates the location with coordinates from Google Map.\n",
    "- we use the Foursquare location data to explore the neighbourhood of different stations, providing more details about the neighourhoods.\n",
    "\n"
   ]
  },
  {
   "cell_type": "markdown",
   "metadata": {},
   "source": [
    "After above data preparation, we will group the most popular venues into dataframe and process the data to evaluate the suburbs."
   ]
  },
  {
   "cell_type": "code",
   "execution_count": null,
   "metadata": {},
   "outputs": [],
   "source": []
  }
 ],
 "metadata": {
  "kernelspec": {
   "display_name": "Python 3",
   "language": "python",
   "name": "python3"
  },
  "language_info": {
   "codemirror_mode": {
    "name": "ipython",
    "version": 3
   },
   "file_extension": ".py",
   "mimetype": "text/x-python",
   "name": "python",
   "nbconvert_exporter": "python",
   "pygments_lexer": "ipython3",
   "version": "3.7.9"
  }
 },
 "nbformat": 4,
 "nbformat_minor": 4
}
